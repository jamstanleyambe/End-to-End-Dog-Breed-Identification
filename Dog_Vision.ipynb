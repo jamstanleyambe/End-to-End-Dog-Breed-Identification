{
  "nbformat": 4,
  "nbformat_minor": 0,
  "metadata": {
    "colab": {
      "provenance": []
    },
    "kernelspec": {
      "name": "python3",
      "display_name": "Python 3"
    },
    "language_info": {
      "name": "python"
    }
  },
  "cells": [
    {
      "cell_type": "markdown",
      "source": [
        "# End-to-End multil-class Dog Breed Classification\n",
        "\n",
        "This NoteBook builds an end to end multil-class image classifier using TensorFlow and TensorFlow Hub.\n",
        "\n",
        "## 1. Problem\n",
        "\n",
        "\n",
        "> Identifying the bread of a dog given an image of a dog.\n",
        "if i can take a picture of any dog i want to know what kind of the breed the Dog is.\n",
        "\n",
        "## 2. Data\n",
        "\n",
        ">The data we are using is coming from Kaggle dog breed identification competition\n",
        "\n",
        "## 3. Evaluation\n",
        "\n",
        "> The Evaluation is a file with prediction probability of each dog breed of each test image\n",
        "\n",
        "## 4. Features\n",
        "\n",
        ">Some information about the data:\n",
        " * We are dealing with images **(unstructured data)** so it probably best to use deep learning/transfer learning.\n",
        " * There are 120 breeds of dogs (this means thee are 120 different classes).\n",
        " * There are around 10000 + images in the traing set ( this images has lable beacuse we are using them for the trainig)\n",
        " * Tehre are around 10000 + images in the test set, (this images has no lable because we want to predict them)\n"
      ],
      "metadata": {
        "id": "t6e9JVnaZXRT"
      }
    },
    {
      "cell_type": "code",
      "source": [],
      "metadata": {
        "id": "ORLMOuG6ZaQD"
      },
      "execution_count": 1,
      "outputs": []
    },
    {
      "cell_type": "code",
      "source": [],
      "metadata": {
        "id": "B4ZeWW0LleP4"
      },
      "execution_count": null,
      "outputs": []
    }
  ]
}